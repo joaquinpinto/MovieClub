{
 "cells": [
  {
   "cell_type": "markdown",
   "metadata": {},
   "source": [
    "# Movie Club Analysis Notebook"
   ]
  },
  {
   "cell_type": "markdown",
   "metadata": {},
   "source": [
    "Here I will redo the work I originally did in a Google Sheet\n",
    "\n",
    "I will be using Python to retrieve the adjusted scores for each movie by first finding the average Z-Score for each movie. "
   ]
  },
  {
   "cell_type": "markdown",
   "metadata": {},
   "source": [
    "### 1. Import Necessary packages"
   ]
  },
  {
   "cell_type": "code",
   "execution_count": 1,
   "metadata": {},
   "outputs": [],
   "source": [
    "import pandas as pd\n",
    "import numpy as np\n",
    "from statistics import mean, stdev as sd\n",
    "movie_df = pd.read_csv('MovieRatings.csv', index_col=0, header=0)"
   ]
  },
  {
   "cell_type": "markdown",
   "metadata": {},
   "source": [
    "### 2. Show preview of the data and look at some comparisons."
   ]
  },
  {
   "cell_type": "code",
   "execution_count": 2,
   "metadata": {},
   "outputs": [
    {
     "name": "stdout",
     "output_type": "stream",
     "text": [
      "                   Givnos  Jaminos  Jerminos  Joaquinos  Marquinos  Mohinos\n",
      "Movie                                                                      \n",
      "12 Monkeys              9        7         8          5          3        7\n",
      "Accident Man            5        7         5          6          6        7\n",
      "Airplane!               7        7         6          7          8        8\n",
      "American Gangster       4        6         9          6          4        6\n",
      "Annihilation           10        4         7          3          5        6\n",
      "\n",
      "\n",
      "              Givnos  Marquinos\n",
      "Movie                          \n",
      "Forrest Gump       7          6\n"
     ]
    }
   ],
   "source": [
    "print(movie_df.head(5))\n",
    "print('\\n')\n",
    "print(movie_df.loc[['Forrest Gump'], ['Givnos', 'Marquinos']])"
   ]
  },
  {
   "cell_type": "markdown",
   "metadata": {},
   "source": [
    "### 3. Find instances of 10 and 1"
   ]
  },
  {
   "cell_type": "code",
   "execution_count": 3,
   "metadata": {},
   "outputs": [],
   "source": [
    "from itertools import chain\n",
    "ten_mov = list(chain(*[movie_df.index[movie_df[i] == 10].tolist() \\\n",
    "           for i in movie_df if 10 in list(movie_df[i])]))\n",
    "one_mov = list(chain(*[movie_df.index[movie_df[i] == 1].tolist() \\\n",
    "           for i in movie_df if 1 in list(movie_df[i])]))"
   ]
  },
  {
   "cell_type": "code",
   "execution_count": 4,
   "metadata": {},
   "outputs": [
    {
     "name": "stdout",
     "output_type": "stream",
     "text": [
      "['Annihilation', 'Saw', 'Gattaca', 'Blazing Saddles', 'Halloween', 'Taxi Driver']\n",
      "['Saw', 'Pitch Perfect 3', 'Rampage']\n"
     ]
    }
   ],
   "source": [
    "print(ten_mov)\n",
    "print(one_mov)"
   ]
  },
  {
   "cell_type": "markdown",
   "metadata": {},
   "source": [
    "### 4. Make copy of data to edit"
   ]
  },
  {
   "cell_type": "code",
   "execution_count": 5,
   "metadata": {},
   "outputs": [],
   "source": [
    "movie_zsc = movie_df.copy().astype('float64')"
   ]
  },
  {
   "cell_type": "markdown",
   "metadata": {},
   "source": [
    "### 5. Save Z-Scores in new data"
   ]
  },
  {
   "cell_type": "code",
   "execution_count": 6,
   "metadata": {},
   "outputs": [],
   "source": [
    "for i in movie_df:\n",
    "    pers_av = mean(movie_df[i])\n",
    "    pers_sd = sd(movie_df[i])\n",
    "    for j in movie_df.index:\n",
    "        z_score = float((movie_df[i][j] - pers_av)/pers_sd)\n",
    "        movie_zsc[i][j] = z_score"
   ]
  },
  {
   "cell_type": "markdown",
   "metadata": {},
   "source": [
    "### 6. Add Z-Score Average Column"
   ]
  },
  {
   "cell_type": "code",
   "execution_count": 7,
   "metadata": {},
   "outputs": [],
   "source": [
    "movie_zsc['Z AVG'] = [mean(movie_zsc.loc[i]) for i in movie_zsc.index]"
   ]
  },
  {
   "cell_type": "markdown",
   "metadata": {},
   "source": [
    "### 7. Add Adjusted Avegage Column"
   ]
  },
  {
   "cell_type": "code",
   "execution_count": 8,
   "metadata": {},
   "outputs": [],
   "source": [
    "mult = 10/(max(movie_zsc.max()) - min(movie_zsc.min()))"
   ]
  },
  {
   "cell_type": "code",
   "execution_count": 9,
   "metadata": {},
   "outputs": [],
   "source": [
    "movie_zsc['ADJ AVG'] = [round(5 + mult*i, 2) \\\n",
    "                        for i in movie_zsc['Z AVG']]"
   ]
  },
  {
   "cell_type": "code",
   "execution_count": 10,
   "metadata": {},
   "outputs": [
    {
     "data": {
      "text/html": [
       "<div>\n",
       "<style scoped>\n",
       "    .dataframe tbody tr th:only-of-type {\n",
       "        vertical-align: middle;\n",
       "    }\n",
       "\n",
       "    .dataframe tbody tr th {\n",
       "        vertical-align: top;\n",
       "    }\n",
       "\n",
       "    .dataframe thead th {\n",
       "        text-align: right;\n",
       "    }\n",
       "</style>\n",
       "<table border=\"1\" class=\"dataframe\">\n",
       "  <thead>\n",
       "    <tr style=\"text-align: right;\">\n",
       "      <th></th>\n",
       "      <th>Givnos</th>\n",
       "      <th>Jaminos</th>\n",
       "      <th>Jerminos</th>\n",
       "      <th>Joaquinos</th>\n",
       "      <th>Marquinos</th>\n",
       "      <th>Mohinos</th>\n",
       "      <th>Z AVG</th>\n",
       "      <th>ADJ AVG</th>\n",
       "    </tr>\n",
       "    <tr>\n",
       "      <th>Movie</th>\n",
       "      <th></th>\n",
       "      <th></th>\n",
       "      <th></th>\n",
       "      <th></th>\n",
       "      <th></th>\n",
       "      <th></th>\n",
       "      <th></th>\n",
       "      <th></th>\n",
       "    </tr>\n",
       "  </thead>\n",
       "  <tbody>\n",
       "    <tr>\n",
       "      <th>12 Monkeys</th>\n",
       "      <td>1.806151</td>\n",
       "      <td>0.783673</td>\n",
       "      <td>1.122386</td>\n",
       "      <td>0.048986</td>\n",
       "      <td>-1.157429</td>\n",
       "      <td>0.365290</td>\n",
       "      <td>0.494843</td>\n",
       "      <td>5.94</td>\n",
       "    </tr>\n",
       "    <tr>\n",
       "      <th>Accident Man</th>\n",
       "      <td>-0.393822</td>\n",
       "      <td>0.783673</td>\n",
       "      <td>-0.117340</td>\n",
       "      <td>0.544964</td>\n",
       "      <td>0.354696</td>\n",
       "      <td>0.365290</td>\n",
       "      <td>0.256243</td>\n",
       "      <td>5.49</td>\n",
       "    </tr>\n",
       "    <tr>\n",
       "      <th>Airplane!</th>\n",
       "      <td>0.706164</td>\n",
       "      <td>0.783673</td>\n",
       "      <td>0.295902</td>\n",
       "      <td>1.040943</td>\n",
       "      <td>1.362779</td>\n",
       "      <td>0.884386</td>\n",
       "      <td>0.845641</td>\n",
       "      <td>6.60</td>\n",
       "    </tr>\n",
       "    <tr>\n",
       "      <th>American Gangster</th>\n",
       "      <td>-0.943816</td>\n",
       "      <td>0.345897</td>\n",
       "      <td>1.535628</td>\n",
       "      <td>0.544964</td>\n",
       "      <td>-0.653387</td>\n",
       "      <td>-0.153806</td>\n",
       "      <td>0.112580</td>\n",
       "      <td>5.21</td>\n",
       "    </tr>\n",
       "    <tr>\n",
       "      <th>Annihilation</th>\n",
       "      <td>2.356145</td>\n",
       "      <td>-0.529655</td>\n",
       "      <td>0.709144</td>\n",
       "      <td>-0.942972</td>\n",
       "      <td>-0.149346</td>\n",
       "      <td>-0.153806</td>\n",
       "      <td>0.214918</td>\n",
       "      <td>5.41</td>\n",
       "    </tr>\n",
       "  </tbody>\n",
       "</table>\n",
       "</div>"
      ],
      "text/plain": [
       "                     Givnos   Jaminos  Jerminos  Joaquinos  Marquinos  \\\n",
       "Movie                                                                   \n",
       "12 Monkeys         1.806151  0.783673  1.122386   0.048986  -1.157429   \n",
       "Accident Man      -0.393822  0.783673 -0.117340   0.544964   0.354696   \n",
       "Airplane!          0.706164  0.783673  0.295902   1.040943   1.362779   \n",
       "American Gangster -0.943816  0.345897  1.535628   0.544964  -0.653387   \n",
       "Annihilation       2.356145 -0.529655  0.709144  -0.942972  -0.149346   \n",
       "\n",
       "                    Mohinos     Z AVG  ADJ AVG  \n",
       "Movie                                           \n",
       "12 Monkeys         0.365290  0.494843     5.94  \n",
       "Accident Man       0.365290  0.256243     5.49  \n",
       "Airplane!          0.884386  0.845641     6.60  \n",
       "American Gangster -0.153806  0.112580     5.21  \n",
       "Annihilation      -0.153806  0.214918     5.41  "
      ]
     },
     "execution_count": 10,
     "metadata": {},
     "output_type": "execute_result"
    }
   ],
   "source": [
    "movie_zsc.head()"
   ]
  },
  {
   "cell_type": "markdown",
   "metadata": {},
   "source": [
    "### 8. Add Power-Up to ADJ_AVG"
   ]
  },
  {
   "cell_type": "code",
   "execution_count": 11,
   "metadata": {},
   "outputs": [],
   "source": [
    "for i in ten_mov:\n",
    "    movie_zsc['ADJ AVG'][i] += round(5/6, 2)\n",
    "for i in one_mov:\n",
    "    movie_zsc['ADJ AVG'][i] -= round(5/6, 2)"
   ]
  },
  {
   "cell_type": "markdown",
   "metadata": {},
   "source": [
    "### 9. Checking Some Info in the "
   ]
  },
  {
   "cell_type": "code",
   "execution_count": 12,
   "metadata": {},
   "outputs": [
    {
     "data": {
      "text/html": [
       "<div>\n",
       "<style scoped>\n",
       "    .dataframe tbody tr th:only-of-type {\n",
       "        vertical-align: middle;\n",
       "    }\n",
       "\n",
       "    .dataframe tbody tr th {\n",
       "        vertical-align: top;\n",
       "    }\n",
       "\n",
       "    .dataframe thead th {\n",
       "        text-align: right;\n",
       "    }\n",
       "</style>\n",
       "<table border=\"1\" class=\"dataframe\">\n",
       "  <thead>\n",
       "    <tr style=\"text-align: right;\">\n",
       "      <th></th>\n",
       "      <th>Givnos</th>\n",
       "      <th>Jaminos</th>\n",
       "      <th>Jerminos</th>\n",
       "      <th>Joaquinos</th>\n",
       "      <th>Marquinos</th>\n",
       "      <th>Mohinos</th>\n",
       "      <th>Z AVG</th>\n",
       "      <th>ADJ AVG</th>\n",
       "    </tr>\n",
       "    <tr>\n",
       "      <th>Movie</th>\n",
       "      <th></th>\n",
       "      <th></th>\n",
       "      <th></th>\n",
       "      <th></th>\n",
       "      <th></th>\n",
       "      <th></th>\n",
       "      <th></th>\n",
       "      <th></th>\n",
       "    </tr>\n",
       "  </thead>\n",
       "  <tbody>\n",
       "    <tr>\n",
       "      <th>12 Monkeys</th>\n",
       "      <td>1.806151</td>\n",
       "      <td>0.783673</td>\n",
       "      <td>1.122386</td>\n",
       "      <td>0.048986</td>\n",
       "      <td>-1.157429</td>\n",
       "      <td>0.365290</td>\n",
       "      <td>0.494843</td>\n",
       "      <td>5.94</td>\n",
       "    </tr>\n",
       "    <tr>\n",
       "      <th>Accident Man</th>\n",
       "      <td>-0.393822</td>\n",
       "      <td>0.783673</td>\n",
       "      <td>-0.117340</td>\n",
       "      <td>0.544964</td>\n",
       "      <td>0.354696</td>\n",
       "      <td>0.365290</td>\n",
       "      <td>0.256243</td>\n",
       "      <td>5.49</td>\n",
       "    </tr>\n",
       "    <tr>\n",
       "      <th>Airplane!</th>\n",
       "      <td>0.706164</td>\n",
       "      <td>0.783673</td>\n",
       "      <td>0.295902</td>\n",
       "      <td>1.040943</td>\n",
       "      <td>1.362779</td>\n",
       "      <td>0.884386</td>\n",
       "      <td>0.845641</td>\n",
       "      <td>6.60</td>\n",
       "    </tr>\n",
       "    <tr>\n",
       "      <th>American Gangster</th>\n",
       "      <td>-0.943816</td>\n",
       "      <td>0.345897</td>\n",
       "      <td>1.535628</td>\n",
       "      <td>0.544964</td>\n",
       "      <td>-0.653387</td>\n",
       "      <td>-0.153806</td>\n",
       "      <td>0.112580</td>\n",
       "      <td>5.21</td>\n",
       "    </tr>\n",
       "    <tr>\n",
       "      <th>Annihilation</th>\n",
       "      <td>2.356145</td>\n",
       "      <td>-0.529655</td>\n",
       "      <td>0.709144</td>\n",
       "      <td>-0.942972</td>\n",
       "      <td>-0.149346</td>\n",
       "      <td>-0.153806</td>\n",
       "      <td>0.214918</td>\n",
       "      <td>6.24</td>\n",
       "    </tr>\n",
       "  </tbody>\n",
       "</table>\n",
       "</div>"
      ],
      "text/plain": [
       "                     Givnos   Jaminos  Jerminos  Joaquinos  Marquinos  \\\n",
       "Movie                                                                   \n",
       "12 Monkeys         1.806151  0.783673  1.122386   0.048986  -1.157429   \n",
       "Accident Man      -0.393822  0.783673 -0.117340   0.544964   0.354696   \n",
       "Airplane!          0.706164  0.783673  0.295902   1.040943   1.362779   \n",
       "American Gangster -0.943816  0.345897  1.535628   0.544964  -0.653387   \n",
       "Annihilation       2.356145 -0.529655  0.709144  -0.942972  -0.149346   \n",
       "\n",
       "                    Mohinos     Z AVG  ADJ AVG  \n",
       "Movie                                           \n",
       "12 Monkeys         0.365290  0.494843     5.94  \n",
       "Accident Man       0.365290  0.256243     5.49  \n",
       "Airplane!          0.884386  0.845641     6.60  \n",
       "American Gangster -0.153806  0.112580     5.21  \n",
       "Annihilation      -0.153806  0.214918     6.24  "
      ]
     },
     "execution_count": 12,
     "metadata": {},
     "output_type": "execute_result"
    }
   ],
   "source": [
    "movie_zsc.head()"
   ]
  },
  {
   "cell_type": "markdown",
   "metadata": {},
   "source": [
    "#### Top rated movie:"
   ]
  },
  {
   "cell_type": "code",
   "execution_count": 13,
   "metadata": {},
   "outputs": [
    {
     "data": {
      "text/plain": [
       "['Shaun of the Dead']"
      ]
     },
     "execution_count": 13,
     "metadata": {},
     "output_type": "execute_result"
    }
   ],
   "source": [
    "print(i, movie_zsc\n",
    "movie_zsc.index[movie_zsc['ADJ AVG'] == \\\n",
    "                movie_zsc['ADJ AVG'].max()].tolist()"
   ]
  },
  {
   "cell_type": "markdown",
   "metadata": {},
   "source": [
    "### 10. Save As .csv"
   ]
  },
  {
   "cell_type": "markdown",
   "metadata": {},
   "source": [
    "Remove # to run this code"
   ]
  },
  {
   "cell_type": "code",
   "execution_count": 15,
   "metadata": {},
   "outputs": [],
   "source": [
    "#movie_zsc.to_csv('AdjustedMovieAverage(v2).csv')"
   ]
  }
 ],
 "metadata": {
  "kernelspec": {
   "display_name": "Python 3",
   "language": "python",
   "name": "python3"
  },
  "language_info": {
   "codemirror_mode": {
    "name": "ipython",
    "version": 3
   },
   "file_extension": ".py",
   "mimetype": "text/x-python",
   "name": "python",
   "nbconvert_exporter": "python",
   "pygments_lexer": "ipython3",
   "version": "3.7.1"
  }
 },
 "nbformat": 4,
 "nbformat_minor": 2
}
